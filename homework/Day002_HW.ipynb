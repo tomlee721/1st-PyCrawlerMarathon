{
 "cells": [
  {
   "cell_type": "code",
   "execution_count": null,
   "metadata": {
    "scrolled": true
   },
   "outputs": [],
   "source": [
    "import urllib.request\n",
    "\n",
    "res = \"http://opendata.hccg.gov.tw/dataset/432257df-491f-4875-8b56-dd814aee5d7b/resource/de014c8b-9b75-4152-9fc6-f0d499cefbe4/download/20150305140446074.csv\"\n",
    "urllib.request.urlretrieve(res, './Data/example.csv')"
   ]
  },
  {
   "cell_type": "code",
   "execution_count": null,
   "metadata": {},
   "outputs": [],
   "source": [
    "# File I/O\n",
    "\n",
    "import os, sys\n",
    "\n",
    "fh = open(\"./data/example.csv\", 'rt', encoding='utf-8')\n",
    "f = fh.read()\n",
    "fh.close()\n",
    "\n",
    "print(f)"
   ]
  },
  {
   "cell_type": "code",
   "execution_count": null,
   "metadata": {},
   "outputs": [],
   "source": [
    "# CSV Reader\n",
    "\n",
    "import csv\n",
    "\n",
    "# 開啟 CSV 檔案\n",
    "with open('./data/example.csv', newline='', encoding='utf-8') as csvfile:\n",
    "    # 讀取 CSV 檔案內容\n",
    "    rows = csv.reader(csvfile)\n",
    "    # 以迴圈輸出每一列\n",
    "    for row in rows:\n",
    "        print(row)"
   ]
  },
  {
   "cell_type": "code",
   "execution_count": null,
   "metadata": {},
   "outputs": [],
   "source": [
    "# 取出班次一的每一個時間\n",
    "\n",
    "with open('./data/example.csv', newline='', encoding='utf-8') as csvfile:\n",
    "    # 讀取 CSV 檔案內容\n",
    "    rows = csv.reader(csvfile)\n",
    "    # 以迴圈輸出每一列\n",
    "    for row in rows:\n",
    "        print((row[5]))"
   ]
  },
  {
   "cell_type": "code",
   "execution_count": null,
   "metadata": {},
   "outputs": [],
   "source": [
    "# 列出資料型態\n",
    "\n",
    "with open('./data/example.csv', newline='', encoding='utf-8') as csvfile:\n",
    "    # 讀取 CSV 檔案內容\n",
    "    rows = csv.reader(csvfile)\n",
    "    # 以迴圈輸出每一列\n",
    "    for row in rows:\n",
    "        print(type(row[5]))"
   ]
  },
  {
   "cell_type": "code",
   "execution_count": null,
   "metadata": {},
   "outputs": [],
   "source": [
    "# 將班次一的每一個時間用一種資料型態保存\n",
    "\n",
    "schedule_list = [];\n",
    "\n",
    "with open('./data/example.csv', newline='', encoding='utf-8') as csvfile:\n",
    "    rows = csv.reader(csvfile)\n",
    "    \n",
    "    for row in rows:\n",
    "        schedule_list.append(row[5])\n",
    "    \n",
    "print(schedule_list)"
   ]
  },
  {
   "cell_type": "code",
   "execution_count": null,
   "metadata": {},
   "outputs": [],
   "source": [
    "# 將所有班次和其每一個時間用一個變數保存\n",
    "\n",
    "allschedule_list = []\n",
    "\n",
    "with open('./data/example.csv', newline='', encoding='utf-8') as csvfile:\n",
    "    rows = csv.reader(csvfile)\n",
    "    \n",
    "    for row in rows:\n",
    "        for i in range(5,16):\n",
    "            allschedule_list.append(row[i])\n",
    "            \n",
    "print(allschedule_list)\n"
   ]
  }
 ],
 "metadata": {
  "kernelspec": {
   "display_name": "Python 3",
   "language": "python",
   "name": "python3"
  },
  "language_info": {
   "codemirror_mode": {
    "name": "ipython",
    "version": 3
   },
   "file_extension": ".py",
   "mimetype": "text/x-python",
   "name": "python",
   "nbconvert_exporter": "python",
   "pygments_lexer": "ipython3",
   "version": "3.7.4"
  }
 },
 "nbformat": 4,
 "nbformat_minor": 2
}
