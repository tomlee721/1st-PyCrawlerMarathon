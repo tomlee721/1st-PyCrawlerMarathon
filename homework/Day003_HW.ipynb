{
 "cells": [
  {
   "cell_type": "code",
   "execution_count": 1,
   "metadata": {
    "scrolled": true
   },
   "outputs": [],
   "source": [
    "from urllib.request import urlretrieve\n",
    "import zipfile\n",
    "import ssl\n",
    "ssl._create_default_https_context = ssl._create_unverified_context\n",
    "\n",
    "# 下載檔案\n",
    "urlretrieve(\"http://opendata.cwb.gov.tw/govdownload?dataid=F-D0047-093&authorizationkey=rdec-key-123-45678-011121314\", \"./Data/example.zip\")\n",
    "\n",
    "# 解壓縮\n",
    "f = zipfile.ZipFile('./Data/example.zip')\n",
    "f.extractall('./Data')"
   ]
  },
  {
   "cell_type": "code",
   "execution_count": 2,
   "metadata": {},
   "outputs": [
    {
     "name": "stdout",
     "output_type": "stream",
     "text": [
      "高雄市有 38 個地區有溫度資料\n"
     ]
    }
   ],
   "source": [
    "import xmltodict\n",
    "\n",
    "# 存取檔案\n",
    "with open('./Data/64_72hr_CH.xml', encoding = 'utf8') as fd:\n",
    "    d = dict(xmltodict.parse(fd.read()))\n",
    "    # print(d['cwbopendata']['dataset']['locations']['location'][0]['locationName'])\n",
    "    \n",
    "# 高雄市有多少地區有溫度資料\n",
    "locationNames = d['cwbopendata']['dataset']['locations']['location']\n",
    "i = 0\n",
    "for locationName in locationNames:\n",
    "    i = i + 1\n",
    "    \n",
    "print (\"高雄市有\",i,\"個地區有溫度資料\")"
   ]
  },
  {
   "cell_type": "code",
   "execution_count": 3,
   "metadata": {
    "scrolled": true
   },
   "outputs": [
    {
     "name": "stdout",
     "output_type": "stream",
     "text": [
      "鹽埕區 　 2019-11-27T18:00:00+08:00 　 25 度\n",
      "鼓山區 　 2019-11-27T18:00:00+08:00 　 25 度\n",
      "左營區 　 2019-11-27T18:00:00+08:00 　 25 度\n",
      "楠梓區 　 2019-11-27T18:00:00+08:00 　 25 度\n",
      "三民區 　 2019-11-27T18:00:00+08:00 　 25 度\n",
      "新興區 　 2019-11-27T18:00:00+08:00 　 26 度\n",
      "前金區 　 2019-11-27T18:00:00+08:00 　 25 度\n",
      "苓雅區 　 2019-11-27T18:00:00+08:00 　 26 度\n",
      "前鎮區 　 2019-11-27T18:00:00+08:00 　 25 度\n",
      "旗津區 　 2019-11-27T18:00:00+08:00 　 24 度\n",
      "小港區 　 2019-11-27T18:00:00+08:00 　 26 度\n",
      "鳳山區 　 2019-11-27T18:00:00+08:00 　 26 度\n",
      "林園區 　 2019-11-27T18:00:00+08:00 　 26 度\n",
      "大寮區 　 2019-11-27T18:00:00+08:00 　 26 度\n",
      "大樹區 　 2019-11-27T18:00:00+08:00 　 26 度\n",
      "大社區 　 2019-11-27T18:00:00+08:00 　 25 度\n",
      "仁武區 　 2019-11-27T18:00:00+08:00 　 25 度\n",
      "鳥松區 　 2019-11-27T18:00:00+08:00 　 25 度\n",
      "岡山區 　 2019-11-27T18:00:00+08:00 　 25 度\n",
      "橋頭區 　 2019-11-27T18:00:00+08:00 　 25 度\n",
      "燕巢區 　 2019-11-27T18:00:00+08:00 　 25 度\n",
      "田寮區 　 2019-11-27T18:00:00+08:00 　 23 度\n",
      "阿蓮區 　 2019-11-27T18:00:00+08:00 　 23 度\n",
      "路竹區 　 2019-11-27T18:00:00+08:00 　 25 度\n",
      "湖內區 　 2019-11-27T18:00:00+08:00 　 24 度\n",
      "茄萣區 　 2019-11-27T18:00:00+08:00 　 23 度\n",
      "永安區 　 2019-11-27T18:00:00+08:00 　 24 度\n",
      "彌陀區 　 2019-11-27T18:00:00+08:00 　 24 度\n",
      "梓官區 　 2019-11-27T18:00:00+08:00 　 24 度\n",
      "旗山區 　 2019-11-27T18:00:00+08:00 　 24 度\n",
      "美濃區 　 2019-11-27T18:00:00+08:00 　 25 度\n",
      "六龜區 　 2019-11-27T18:00:00+08:00 　 22 度\n",
      "甲仙區 　 2019-11-27T18:00:00+08:00 　 21 度\n",
      "杉林區 　 2019-11-27T18:00:00+08:00 　 25 度\n",
      "內門區 　 2019-11-27T18:00:00+08:00 　 23 度\n",
      "茂林區 　 2019-11-27T18:00:00+08:00 　 23 度\n",
      "桃源區 　 2019-11-27T18:00:00+08:00 　 20 度\n",
      "那瑪夏區 　 2019-11-27T18:00:00+08:00 　 18 度\n"
     ]
    }
   ],
   "source": [
    "# 請取出每一個地區所記錄的第一個時間點跟溫度\n",
    "for locationName in locationNames:\n",
    "    print (locationName['locationName'], \"　\", locationName['weatherElement'][0]['time'][0]['dataTime'], \"　\", locationName['weatherElement'][0]['time'][0]['elementValue']['value'], \"度\")"
   ]
  },
  {
   "cell_type": "code",
   "execution_count": 4,
   "metadata": {},
   "outputs": [
    {
     "name": "stdout",
     "output_type": "stream",
     "text": [
      "鹽埕區\n",
      "2019-11-27T18:00:00+08:00 　 25 度\n",
      "2019-11-27T21:00:00+08:00 　 23 度\n",
      "2019-11-28T00:00:00+08:00 　 22 度\n",
      "2019-11-28T03:00:00+08:00 　 21 度\n",
      "2019-11-28T06:00:00+08:00 　 20 度\n",
      "2019-11-28T09:00:00+08:00 　 23 度\n",
      "2019-11-28T12:00:00+08:00 　 27 度\n",
      "2019-11-28T15:00:00+08:00 　 27 度\n",
      "2019-11-28T18:00:00+08:00 　 24 度\n",
      "2019-11-28T21:00:00+08:00 　 23 度\n",
      "2019-11-29T00:00:00+08:00 　 21 度\n",
      "2019-11-29T03:00:00+08:00 　 20 度\n",
      "2019-11-29T06:00:00+08:00 　 19 度\n",
      "2019-11-29T09:00:00+08:00 　 21 度\n",
      "2019-11-29T12:00:00+08:00 　 24 度\n",
      "2019-11-29T15:00:00+08:00 　 25 度\n",
      "2019-11-29T18:00:00+08:00 　 23 度\n",
      "2019-11-29T21:00:00+08:00 　 22 度\n",
      "2019-11-30T00:00:00+08:00 　 21 度\n",
      "2019-11-30T03:00:00+08:00 　 21 度\n",
      "2019-11-30T06:00:00+08:00 　 20 度\n",
      "2019-11-30T09:00:00+08:00 　 22 度\n",
      "2019-11-30T12:00:00+08:00 　 26 度\n",
      "2019-11-30T15:00:00+08:00 　 26 度\n"
     ]
    }
   ],
   "source": [
    "# 請取出第一個地區所記錄的每一個時間點跟溫度\n",
    "print (d['cwbopendata']['dataset']['locations']['location'][0]['locationName'])\n",
    "weatherElements = d['cwbopendata']['dataset']['locations']['location'][0]['weatherElement'][0]['time']\n",
    "\n",
    "for weatherElement in weatherElements:\n",
    "    print (weatherElement['dataTime'], \"　\", weatherElement['elementValue']['value'], \"度\")"
   ]
  }
 ],
 "metadata": {
  "kernelspec": {
   "display_name": "Python 3",
   "language": "python",
   "name": "python3"
  },
  "language_info": {
   "codemirror_mode": {
    "name": "ipython",
    "version": 3
   },
   "file_extension": ".py",
   "mimetype": "text/x-python",
   "name": "python",
   "nbconvert_exporter": "python",
   "pygments_lexer": "ipython3",
   "version": "3.7.4"
  }
 },
 "nbformat": 4,
 "nbformat_minor": 2
}
