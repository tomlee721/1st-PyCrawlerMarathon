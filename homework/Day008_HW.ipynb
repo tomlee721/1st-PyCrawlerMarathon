{
 "cells": [
  {
   "cell_type": "code",
   "execution_count": 1,
   "metadata": {},
   "outputs": [
    {
     "name": "stdout",
     "output_type": "stream",
     "text": [
      "<class 'str'>\n"
     ]
    }
   ],
   "source": [
    "# Request 取回之後該怎麼取出資料，資料型態是什麼？\n",
    "\n",
    "import requests\n",
    "\n",
    "r = requests.get('https://www.dcard.tw/f')\n",
    "\n",
    "response = r.text\n",
    "\n",
    "#print(response)\n",
    "\n",
    "print(type(response))"
   ]
  },
  {
   "cell_type": "code",
   "execution_count": 2,
   "metadata": {},
   "outputs": [
    {
     "name": "stdout",
     "output_type": "stream",
     "text": [
      "較方便進行處理 HTML 結構內容\n"
     ]
    }
   ],
   "source": [
    "# 為什麼要使用 BeatifulSoup 處理？\n",
    "\n",
    "from bs4 import BeautifulSoup\n",
    "\n",
    "soup = BeautifulSoup(response, \"html5lib\")\n",
    "# print(soup)\n",
    "# print(type(soup))\n",
    "\n",
    "print('較方便進行處理 HTML 結構內容')"
   ]
  },
  {
   "cell_type": "code",
   "execution_count": 3,
   "metadata": {},
   "outputs": [
    {
     "name": "stdout",
     "output_type": "stream",
     "text": [
      "<html>\r\n",
      "<head><title>400 Bad Request</title></head>\r\n",
      "<body bgcolor=\"white\">\r\n",
      "<center><h1>400 Bad Request</h1></center>\r\n",
      "<hr><center>openresty</center>\r\n",
      "</body>\r\n",
      "</html>\r\n",
      "\n",
      "無法獲取內容，原因應與上一天學習，需要加上 headers 有關\n"
     ]
    }
   ],
   "source": [
    "# 觀察一下知乎回來的資料好像有點怪怪的，該怎麼解決？\n",
    "\n",
    "r = requests.get('https://www.zhihu.com/explore')\n",
    "\n",
    "response = r.text\n",
    "\n",
    "print(response)\n",
    "\n",
    "print('無法獲取內容，原因應與上一天學習，需要加上 headers 有關')"
   ]
  }
 ],
 "metadata": {
  "kernelspec": {
   "display_name": "Python 3",
   "language": "python",
   "name": "python3"
  },
  "language_info": {
   "codemirror_mode": {
    "name": "ipython",
    "version": 3
   },
   "file_extension": ".py",
   "mimetype": "text/x-python",
   "name": "python",
   "nbconvert_exporter": "python",
   "pygments_lexer": "ipython3",
   "version": "3.7.4"
  }
 },
 "nbformat": 4,
 "nbformat_minor": 2
}
